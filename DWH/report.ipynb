{
 "cells": [
  {
   "cell_type": "code",
   "execution_count": 1,
   "metadata": {},
   "outputs": [
    {
     "name": "stdout",
     "output_type": "stream",
     "text": [
      "   employee_id         username                        email  isAdmin  \\\n",
      "0            1              Ywu  samanthaperkins@example.net     True   \n",
      "1            2       Jennifer27           wevans@example.net     True   \n",
      "2            3         Vedwards        matthew60@example.net    False   \n",
      "3            4  Gonzalessabrina        melissa00@example.net     True   \n",
      "4            5        Jessica89          tonya60@example.org    False   \n",
      "\n",
      "             department                       team  timeSpent  gender  \n",
      "0       Data Management        Infrastructure Team      86049    Male  \n",
      "1  Software Development     Technical Support Team      56812  Female  \n",
      "2        Cloud Services  User Experience (Ux) Team      79179    Male  \n",
      "3            It Support                Devops Team      63847    Male  \n",
      "4  Software Development  User Experience (Ux) Team      10197    Male  \n",
      "   course_id                                 title  \\\n",
      "0          1   Proactive demand-driven methodology   \n",
      "1          2      Down-sized intermediate strategy   \n",
      "2          3    Object-based zero-defect emulation   \n",
      "3          4   Customizable background methodology   \n",
      "4          5  Cross-platform grid-enabled alliance   \n",
      "\n",
      "                                         description  \\\n",
      "0  Wife training run yourself they performance ru...   \n",
      "1  Conference quality low. Weight my wife nationa...   \n",
      "2  Good what put method benefit. Option see speci...   \n",
      "3  Collection evening central both opportunity im...   \n",
      "4  Claim not manager watch ago interesting inside...   \n",
      "\n",
      "                                              topics  \n",
      "0  [{'title': 'fly', 'subtopics': [{'title': 'Sta...  \n",
      "1  [{'title': 'investment', 'subtopics': [{'title...  \n",
      "2  [{'title': 'will', 'subtopics': [{'title': 'Fo...  \n",
      "3  [{'title': 'eye', 'subtopics': [{'title': 'Erg...  \n",
      "4  [{'title': 'spring', 'subtopics': [{'title': '...  \n",
      "  enrollmentId  userId  courseId  enrolledAt  progress  completed  totalCount  \\\n",
      "0     rQS0kpxX     158        16  2024-10-07        71      False           9   \n",
      "1     3AStlgcU     130        13  2024-10-07        76      False           9   \n",
      "2     E2UsVdTq     172        18  2024-10-07        14      False          10   \n",
      "3     fh9DWDHa     271        13  2024-10-07        60      False          11   \n",
      "4     tmdGzFZb     246        20  2024-10-07        30      False          17   \n",
      "\n",
      "   completedCount  isQuizTaken  isParticipated  isFeedback  \n",
      "0               8        False            True        True  \n",
      "1               7         True            True       False  \n",
      "2               8         True            True       False  \n",
      "3              10        False            True        True  \n",
      "4               4         True            True       False  \n",
      "     quizId  userId  courseId enrollmentId  totalScore  obtainedScore  \\\n",
      "0  geZDcEVf     130        13     3AStlgcU         100             72   \n",
      "1  uKsA0JGS     172        18     E2UsVdTq         100             15   \n",
      "2  6UmT7Imw     246        20     tmdGzFZb         100             26   \n",
      "3  K0oGn9b4     135        12     Gs0zOMyg         100             16   \n",
      "4  GwaNiBIx     126        17     N8sqpKOE         100             87   \n",
      "\n",
      "         date  \n",
      "0  2024-10-07  \n",
      "1  2024-10-07  \n",
      "2  2024-10-07  \n",
      "3  2024-10-07  \n",
      "4  2024-10-07  \n",
      "  feedbackId  courseId  userId enrollmentId  overallSatisfaction  \\\n",
      "0   TaQVarow        16     158     rQS0kpxX                    2   \n",
      "1   OvMsaQPX        13     271     fh9DWDHa                    3   \n",
      "2   dAQdeiVv        13     297     ZelKutIJ                    3   \n",
      "3   bERI005p         7     143     Rh4AZ9uM                    4   \n",
      "4   omQJThTb        20     107     RmyjsCVX                    1   \n",
      "\n",
      "   contentQuality  instructorEffectiveness           comments   createdAt  \n",
      "0               3                        1  Very informative.  2024-10-07  \n",
      "1               1                        5      Great course!  2024-10-07  \n",
      "2               4                        5   Could be better.  2024-10-07  \n",
      "3               1                        5   Could be better.  2024-10-07  \n",
      "4               1                        2      Great course!  2024-10-07  \n",
      "  commentId  userId enrollmentId  courseId            content   createdAt\n",
      "0  iUESyDUX     158     rQS0kpxX        16  I didn't like it.  2024-10-07\n",
      "1  WBuCjKpE     130     3AStlgcU        13       It was okay.  2024-10-07\n",
      "2  b6BtFazt     172     E2UsVdTq        18  I didn't like it.  2024-10-07\n",
      "3  t85h8iFH     271     fh9DWDHa        13       It was okay.  2024-10-07\n",
      "4  hBoMEwLn     246     tmdGzFZb        20       It was okay.  2024-10-07\n",
      "   userId enrollmentId  courseId  engagement\n",
      "0     158     rQS0kpxX        16           0\n",
      "1     130     3AStlgcU        13           0\n",
      "2     172     E2UsVdTq        18           0\n",
      "3     271     fh9DWDHa        13           1\n",
      "4     246     tmdGzFZb        20           0\n"
     ]
    }
   ],
   "source": [
    "import os\n",
    "import pandas as pd\n",
    "\n",
    "# Define the source PREP directory\n",
    "prep_dir = r\"C:\\Users\\SujithaaR\\Documents\\FinalProject -DWH and DS\\DWH\\PREP\"\n",
    "\n",
    "# Define the target REPORT directory\n",
    "report_dir = r\"C:\\Users\\SujithaaR\\Documents\\FinalProject -DWH and DS\\DWH\\REPORT\"  \n",
    "\n",
    "# Create the PREP directory if it doesn't exist\n",
    "os.makedirs(prep_dir, exist_ok=True)\n",
    "\n",
    "# Function to load CSV files into DataFrames\n",
    "def load_csv(file_name):\n",
    "    file_path = os.path.join(prep_dir, file_name)\n",
    "    return pd.read_csv(file_path)\n",
    "\n",
    "# Load data from PREP CSV files\n",
    "dim_user = load_csv('cleaned_employees.csv') \n",
    "dim_course = load_csv('cleaned_courses.csv')  \n",
    "enrollment = load_csv('cleaned_enrollment.csv')  \n",
    "quiz_data = load_csv('cleaned_quiz_results.csv')  \n",
    "feedback_data = load_csv('cleaned_feedback.csv')  \n",
    "comment_data = load_csv('cleaned_comments.csv')  \n",
    "fact_engagement = load_csv('cleaned_engagement.csv')  # Load the engagement data\n",
    "\n",
    "# You can print or inspect the DataFrames if needed\n",
    "print(dim_user.head())\n",
    "print(dim_course.head())\n",
    "print(enrollment.head())\n",
    "print(quiz_data.head())\n",
    "print(feedback_data.head())\n",
    "print(comment_data.head())\n",
    "print(fact_engagement.head())  # Print engagement data to verify\n",
    "\n"
   ]
  },
  {
   "cell_type": "markdown",
   "metadata": {},
   "source": [
    "CREATE THE FACT TABLE"
   ]
  },
  {
   "cell_type": "markdown",
   "metadata": {},
   "source": [
    "Key attributes - enrollment IDs, user IDs, course IDs, and flags indicating whether quizzes, feedback and comments were taken."
   ]
  },
  {
   "cell_type": "code",
   "execution_count": 2,
   "metadata": {},
   "outputs": [
    {
     "name": "stdout",
     "output_type": "stream",
     "text": [
      "Fact Engagement Table:\n",
      "   userId enrollmentId  courseId  enrolledAt  progress  completed  totalCount  \\\n",
      "0     158     rQS0kpxX        16  2024-10-07        71      False           9   \n",
      "1     130     3AStlgcU        13  2024-10-07        76      False           9   \n",
      "2     172     E2UsVdTq        18  2024-10-07        14      False          10   \n",
      "3     271     fh9DWDHa        13  2024-10-07        60      False          11   \n",
      "4     246     tmdGzFZb        20  2024-10-07        30      False          17   \n",
      "\n",
      "   completedCount  isQuizTaken  isParticipated  isFeedback  engagement  \n",
      "0               8        False            True        True           0  \n",
      "1               7         True            True       False           0  \n",
      "2               8         True            True       False           0  \n",
      "3              10        False            True        True           1  \n",
      "4               4         True            True       False           0  \n",
      "Fact engagement table created and saved as 'fact_engagement.csv' in the REPORT directory!\n"
     ]
    }
   ],
   "source": [
    "# Merge enrollment with engagement to create the fact table\n",
    "fact_engagement_table = enrollment.merge(\n",
    "    fact_engagement,\n",
    "    on=['userId', 'enrollmentId', 'courseId'],  # Ensure these columns are the same in both DataFrames\n",
    "    how='left'  # Use left join to keep all enrollment records\n",
    ")\n",
    "\n",
    "# Select relevant columns for the fact table\n",
    "fact_engagement_table = fact_engagement_table[['userId', 'enrollmentId', 'courseId', \n",
    "                                                'enrolledAt', 'progress', 'completed', \n",
    "                                                'totalCount', 'completedCount', \n",
    "                                                'isQuizTaken', 'isParticipated', \n",
    "                                                'isFeedback', 'engagement']]\n",
    "\n",
    "# Display the resulting fact engagement table\n",
    "print(\"Fact Engagement Table:\")\n",
    "print(fact_engagement_table.head())\n",
    "\n",
    "# Save the fact engagement table to a CSV file in the report directory\n",
    "fact_engagement_table.to_csv(os.path.join(report_dir, 'fact_engagement.csv'), index=False)\n",
    "print(\"Fact engagement table created and saved as 'fact_engagement.csv' in the REPORT directory!\")"
   ]
  },
  {
   "cell_type": "markdown",
   "metadata": {},
   "source": [
    "CREATE THE DIMENSION TABLES"
   ]
  },
  {
   "cell_type": "markdown",
   "metadata": {},
   "source": [
    "Create and save the dimension tables"
   ]
  },
  {
   "cell_type": "code",
   "execution_count": 3,
   "metadata": {},
   "outputs": [],
   "source": [
    "dim_user.to_csv(os.path.join(report_dir, 'dim_employee.csv'), index=False)\n",
    "dim_course.to_csv(os.path.join(report_dir, 'dim_course.csv'), index=False)\n"
   ]
  },
  {
   "cell_type": "markdown",
   "metadata": {},
   "source": [
    "Create and save the Quiz dimension table only if quiz was taken"
   ]
  },
  {
   "cell_type": "code",
   "execution_count": 4,
   "metadata": {},
   "outputs": [],
   "source": [
    "dim_quiz = quiz_data[quiz_data['enrollmentId'].isin(fact_engagement_table[fact_engagement_table['isQuizTaken']]['enrollmentId'])]\n",
    "dim_quiz = dim_quiz[['quizId', 'userId', 'courseId', 'enrollmentId', 'totalScore', 'obtainedScore', 'date']]\n",
    "\n",
    "dim_quiz.to_csv(os.path.join(report_dir, 'dim_quiz.csv'), index=False)"
   ]
  },
  {
   "cell_type": "markdown",
   "metadata": {},
   "source": [
    "Create and save the Feedback dimension table only if feedback was given"
   ]
  },
  {
   "cell_type": "code",
   "execution_count": 5,
   "metadata": {},
   "outputs": [],
   "source": [
    "dim_feedback = feedback_data[feedback_data['enrollmentId'].isin(fact_engagement_table[fact_engagement_table['isFeedback']]['enrollmentId'])]\n",
    "dim_feedback = dim_feedback[['feedbackId', 'courseId', 'userId', 'enrollmentId', 'overallSatisfaction', 'contentQuality', 'instructorEffectiveness', 'comments', 'createdAt']]\n",
    "\n",
    "dim_feedback.to_csv(os.path.join(report_dir, 'dim_feedback.csv'), index=False)"
   ]
  },
  {
   "cell_type": "markdown",
   "metadata": {},
   "source": [
    "Create and save the Comments dimension table only if comments were made"
   ]
  },
  {
   "cell_type": "code",
   "execution_count": 6,
   "metadata": {},
   "outputs": [],
   "source": [
    "dim_comments = comment_data[comment_data['enrollmentId'].isin(fact_engagement_table[fact_engagement_table['isParticipated']]['enrollmentId'])]\n",
    "dim_comments = dim_comments[['commentId', 'userId', 'enrollmentId', 'courseId', 'content', 'createdAt']]\n",
    "\n",
    "dim_comments.to_csv(os.path.join(report_dir, 'dim_comments.csv'), index=False)"
   ]
  }
 ],
 "metadata": {
  "kernelspec": {
   "display_name": "myenv",
   "language": "python",
   "name": "python3"
  },
  "language_info": {
   "codemirror_mode": {
    "name": "ipython",
    "version": 3
   },
   "file_extension": ".py",
   "mimetype": "text/x-python",
   "name": "python",
   "nbconvert_exporter": "python",
   "pygments_lexer": "ipython3",
   "version": "3.11.9"
  }
 },
 "nbformat": 4,
 "nbformat_minor": 2
}
