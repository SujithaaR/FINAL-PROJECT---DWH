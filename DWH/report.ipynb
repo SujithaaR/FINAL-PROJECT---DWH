{
 "cells": [
  {
   "cell_type": "code",
   "execution_count": 1,
   "metadata": {},
   "outputs": [
    {
     "name": "stdout",
     "output_type": "stream",
     "text": [
      "   employee_id         username                        email  isAdmin  \\\n",
      "0            1              Ywu  samanthaperkins@example.net     True   \n",
      "1            2       Jennifer27           wevans@example.net     True   \n",
      "2            3         Vedwards        matthew60@example.net    False   \n",
      "3            4  Gonzalessabrina        melissa00@example.net     True   \n",
      "4            5        Jessica89          tonya60@example.org    False   \n",
      "\n",
      "             department                       team  timeSpent  gender  \n",
      "0       Data Management        Infrastructure Team      86049    Male  \n",
      "1  Software Development     Technical Support Team      56812  Female  \n",
      "2        Cloud Services  User Experience (Ux) Team      79179    Male  \n",
      "3            It Support                Devops Team      63847    Male  \n",
      "4  Software Development  User Experience (Ux) Team      10197    Male  \n",
      "   course_id                                 title  \\\n",
      "0          1   Proactive demand-driven methodology   \n",
      "1          2      Down-sized intermediate strategy   \n",
      "2          3    Object-based zero-defect emulation   \n",
      "3          4   Customizable background methodology   \n",
      "4          5  Cross-platform grid-enabled alliance   \n",
      "\n",
      "                                         description  \\\n",
      "0  Wife training run yourself they performance ru...   \n",
      "1  Conference quality low. Weight my wife nationa...   \n",
      "2  Good what put method benefit. Option see speci...   \n",
      "3  Collection evening central both opportunity im...   \n",
      "4  Claim not manager watch ago interesting inside...   \n",
      "\n",
      "                                              topics  \n",
      "0  [{'title': 'fly', 'subtopics': [{'title': 'Sta...  \n",
      "1  [{'title': 'investment', 'subtopics': [{'title...  \n",
      "2  [{'title': 'will', 'subtopics': [{'title': 'Fo...  \n",
      "3  [{'title': 'eye', 'subtopics': [{'title': 'Erg...  \n",
      "4  [{'title': 'spring', 'subtopics': [{'title': '...  \n",
      "  enrollmentId  userId  courseId  enrolledAt  progress  completed  totalCount  \\\n",
      "0     rQS0kpxX     158        16  2024-10-07        71      False           9   \n",
      "1     3AStlgcU     130        13  2024-10-07        76      False           9   \n",
      "2     E2UsVdTq     172        18  2024-10-07        14      False          10   \n",
      "3     fh9DWDHa     271        13  2024-10-07        60      False          11   \n",
      "4     tmdGzFZb     246        20  2024-10-07        30      False          17   \n",
      "\n",
      "   completedCount  isQuizTaken  isParticipated  isFeedback  \n",
      "0               8        False            True        True  \n",
      "1               7         True            True       False  \n",
      "2               8         True            True       False  \n",
      "3              10        False            True        True  \n",
      "4               4         True            True       False  \n",
      "     quizId  userId  courseId enrollmentId  totalScore  obtainedScore  \\\n",
      "0  geZDcEVf     130        13     3AStlgcU         100             72   \n",
      "1  uKsA0JGS     172        18     E2UsVdTq         100             15   \n",
      "2  6UmT7Imw     246        20     tmdGzFZb         100             26   \n",
      "3  K0oGn9b4     135        12     Gs0zOMyg         100             16   \n",
      "4  GwaNiBIx     126        17     N8sqpKOE         100             87   \n",
      "\n",
      "         date  \n",
      "0  2024-10-07  \n",
      "1  2024-10-07  \n",
      "2  2024-10-07  \n",
      "3  2024-10-07  \n",
      "4  2024-10-07  \n",
      "  feedbackId  courseId  userId enrollmentId  overallSatisfaction  \\\n",
      "0   TaQVarow        16     158     rQS0kpxX                    2   \n",
      "1   OvMsaQPX        13     271     fh9DWDHa                    3   \n",
      "2   dAQdeiVv        13     297     ZelKutIJ                    3   \n",
      "3   bERI005p         7     143     Rh4AZ9uM                    4   \n",
      "4   omQJThTb        20     107     RmyjsCVX                    1   \n",
      "\n",
      "   contentQuality  instructorEffectiveness           comments   createdAt  \n",
      "0               3                        1  Very informative.  2024-10-07  \n",
      "1               1                        5      Great course!  2024-10-07  \n",
      "2               4                        5   Could be better.  2024-10-07  \n",
      "3               1                        5   Could be better.  2024-10-07  \n",
      "4               1                        2      Great course!  2024-10-07  \n",
      "  commentId  userId enrollmentId  courseId            content   createdAt\n",
      "0  iUESyDUX     158     rQS0kpxX        16  I didn't like it.  2024-10-07\n",
      "1  WBuCjKpE     130     3AStlgcU        13       It was okay.  2024-10-07\n",
      "2  b6BtFazt     172     E2UsVdTq        18  I didn't like it.  2024-10-07\n",
      "3  t85h8iFH     271     fh9DWDHa        13       It was okay.  2024-10-07\n",
      "4  hBoMEwLn     246     tmdGzFZb        20       It was okay.  2024-10-07\n",
      "   userId enrollmentId  courseId  engagement\n",
      "0     158     rQS0kpxX        16           0\n",
      "1     130     3AStlgcU        13           0\n",
      "2     172     E2UsVdTq        18           0\n",
      "3     271     fh9DWDHa        13           1\n",
      "4     246     tmdGzFZb        20           0\n"
     ]
    }
   ],
   "source": [
    "import os\n",
    "import pandas as pd\n",
    "\n",
    "# Define the source PREP directory\n",
    "prep_dir = r\"C:\\Users\\SujithaaR\\Documents\\FinalProject -DWH and DS\\DWH\\PREP\"\n",
    "\n",
    "# Define the target REPORT directory\n",
    "report_dir = r\"C:\\Users\\SujithaaR\\Documents\\FinalProject -DWH and DS\\DWH\\REPORT\"  \n",
    "\n",
    "# Create the PREP directory if it doesn't exist\n",
    "os.makedirs(prep_dir, exist_ok=True)\n",
    "\n",
    "# Function to load CSV files into DataFrames\n",
    "def load_csv(file_name):\n",
    "    file_path = os.path.join(prep_dir, file_name)\n",
    "    return pd.read_csv(file_path)\n",
    "\n",
    "# Load data from PREP CSV files\n",
    "dim_user = load_csv('cleaned_employees.csv') \n",
    "dim_course = load_csv('cleaned_courses.csv')  \n",
    "enrollment = load_csv('cleaned_enrollment.csv')  \n",
    "quiz_data = load_csv('cleaned_quiz_results.csv')  \n",
    "feedback_data = load_csv('cleaned_feedback.csv')  \n",
    "comment_data = load_csv('cleaned_comments.csv')  \n",
    "fact_engagement = load_csv('cleaned_modified_engagement.csv')  # Load the engagement data\n",
    "\n",
    "# You can print or inspect the DataFrames if needed\n",
    "print(dim_user.head())\n",
    "print(dim_course.head())\n",
    "print(enrollment.head())\n",
    "print(quiz_data.head())\n",
    "print(feedback_data.head())\n",
    "print(comment_data.head())\n",
    "print(fact_engagement.head())  # Print engagement data to verify\n",
    "\n"
   ]
  },
  {
   "cell_type": "markdown",
   "metadata": {},
   "source": [
    "CREATE THE FACT TABLE"
   ]
  },
  {
   "cell_type": "markdown",
   "metadata": {},
   "source": [
    "Key attributes - enrollment IDs, user IDs, course IDs, and flags indicating whether quizzes, feedback and comments were taken."
   ]
  },
  {
   "cell_type": "code",
   "execution_count": 2,
   "metadata": {},
   "outputs": [
    {
     "name": "stdout",
     "output_type": "stream",
     "text": [
      "Fact Engagement Table:\n",
      "   userId enrollmentId  courseId  enrolledAt  progress  completed  totalCount  \\\n",
      "0     158     rQS0kpxX        16  2024-10-07        71      False           9   \n",
      "1     130     3AStlgcU        13  2024-10-07        76      False           9   \n",
      "2     172     E2UsVdTq        18  2024-10-07        14      False          10   \n",
      "3     271     fh9DWDHa        13  2024-10-07        60      False          11   \n",
      "4     246     tmdGzFZb        20  2024-10-07        30      False          17   \n",
      "\n",
      "   completedCount  isQuizTaken  isParticipated  isFeedback  engagement  \n",
      "0               8        False            True        True           0  \n",
      "1               7         True            True       False           0  \n",
      "2               8         True            True       False           0  \n",
      "3              10        False            True        True           1  \n",
      "4               4         True            True       False           0  \n",
      "Fact engagement table created and saved as 'fact_engagement.csv' in the REPORT directory!\n"
     ]
    }
   ],
   "source": [
    "# Merge enrollment with engagement to create the fact table\n",
    "fact_engagement_table = enrollment.merge(\n",
    "    fact_engagement,\n",
    "    on=['userId', 'enrollmentId', 'courseId'],  # Ensure these columns are the same in both DataFrames\n",
    "    how='left'  # Use left join to keep all enrollment records\n",
    ")\n",
    "\n",
    "# Select relevant columns for the fact table\n",
    "fact_engagement_table = fact_engagement_table[['userId', 'enrollmentId', 'courseId', \n",
    "                                                'enrolledAt', 'progress', 'completed', \n",
    "                                                'totalCount', 'completedCount', \n",
    "                                                'isQuizTaken', 'isParticipated', \n",
    "                                                'isFeedback', 'engagement']]\n",
    "\n",
    "# Display the resulting fact engagement table\n",
    "print(\"Fact Engagement Table:\")\n",
    "print(fact_engagement_table.head())\n",
    "\n",
    "# Save the fact engagement table to a CSV file in the report directory\n",
    "fact_engagement_table.to_csv(os.path.join(report_dir, 'fact_engagement.csv'), index=False)\n",
    "print(\"Fact engagement table created and saved as 'fact_engagement.csv' in the REPORT directory!\")"
   ]
  },
  {
   "cell_type": "markdown",
   "metadata": {},
   "source": [
    "CREATE THE DIMENSION TABLES"
   ]
  },
  {
   "cell_type": "markdown",
   "metadata": {},
   "source": [
    "Create and save the dimension tables"
   ]
  },
  {
   "cell_type": "code",
   "execution_count": 3,
   "metadata": {},
   "outputs": [],
   "source": [
    "dim_user.to_csv(os.path.join(report_dir, 'dim_employee.csv'), index=False)\n",
    "dim_course.to_csv(os.path.join(report_dir, 'dim_course.csv'), index=False)\n"
   ]
  },
  {
   "cell_type": "markdown",
   "metadata": {},
   "source": [
    "Create and save the Quiz dimension table only if quiz was taken"
   ]
  },
  {
   "cell_type": "code",
   "execution_count": 4,
   "metadata": {},
   "outputs": [],
   "source": [
    "dim_quiz = quiz_data[quiz_data['enrollmentId'].isin(fact_engagement_table[fact_engagement_table['isQuizTaken']]['enrollmentId'])]\n",
    "dim_quiz = dim_quiz[['quizId', 'userId', 'courseId', 'enrollmentId', 'totalScore', 'obtainedScore', 'date']]\n",
    "\n",
    "dim_quiz.to_csv(os.path.join(report_dir, 'dim_quiz.csv'), index=False)"
   ]
  },
  {
   "cell_type": "markdown",
   "metadata": {},
   "source": [
    "Create and save the Feedback dimension table only if feedback was given"
   ]
  },
  {
   "cell_type": "code",
   "execution_count": 5,
   "metadata": {},
   "outputs": [],
   "source": [
    "dim_feedback = feedback_data[feedback_data['enrollmentId'].isin(fact_engagement_table[fact_engagement_table['isFeedback']]['enrollmentId'])]\n",
    "dim_feedback = dim_feedback[['feedbackId', 'courseId', 'userId', 'enrollmentId', 'overallSatisfaction', 'contentQuality', 'instructorEffectiveness', 'comments', 'createdAt']]\n",
    "\n",
    "dim_feedback.to_csv(os.path.join(report_dir, 'dim_feedback.csv'), index=False)"
   ]
  },
  {
   "cell_type": "markdown",
   "metadata": {},
   "source": [
    "Create and save the Comments dimension table only if comments were made"
   ]
  },
  {
   "cell_type": "code",
   "execution_count": 6,
   "metadata": {},
   "outputs": [],
   "source": [
    "dim_comments = comment_data[comment_data['enrollmentId'].isin(fact_engagement_table[fact_engagement_table['isParticipated']]['enrollmentId'])]\n",
    "dim_comments = dim_comments[['commentId', 'userId', 'enrollmentId', 'courseId', 'content', 'createdAt']]\n",
    "\n",
    "dim_comments.to_csv(os.path.join(report_dir, 'dim_comments.csv'), index=False)"
   ]
  },
  {
   "cell_type": "markdown",
   "metadata": {},
   "source": [
    "INSIGHTS"
   ]
  },
  {
   "cell_type": "code",
   "execution_count": 8,
   "metadata": {},
   "outputs": [
    {
     "data": {
      "text/plain": [
       "Index(['userId', 'enrollmentId', 'courseId', 'enrolledAt', 'progress',\n",
       "       'completed', 'totalCount', 'completedCount', 'isQuizTaken',\n",
       "       'isParticipated', 'isFeedback', 'engagement'],\n",
       "      dtype='object')"
      ]
     },
     "metadata": {},
     "output_type": "display_data"
    },
    {
     "data": {
      "text/plain": [
       "Index(['employee_id', 'username', 'email', 'isAdmin', 'department', 'team',\n",
       "       'timeSpent', 'gender'],\n",
       "      dtype='object')"
      ]
     },
     "metadata": {},
     "output_type": "display_data"
    },
    {
     "data": {
      "text/plain": [
       "Index(['course_id', 'title', 'description', 'topics'], dtype='object')"
      ]
     },
     "metadata": {},
     "output_type": "display_data"
    },
    {
     "data": {
      "text/plain": [
       "Index(['commentId', 'userId', 'enrollmentId', 'courseId', 'content',\n",
       "       'createdAt'],\n",
       "      dtype='object')"
      ]
     },
     "metadata": {},
     "output_type": "display_data"
    },
    {
     "data": {
      "text/plain": [
       "Index(['feedbackId', 'courseId', 'userId', 'enrollmentId',\n",
       "       'overallSatisfaction', 'contentQuality', 'instructorEffectiveness',\n",
       "       'comments', 'createdAt'],\n",
       "      dtype='object')"
      ]
     },
     "metadata": {},
     "output_type": "display_data"
    },
    {
     "data": {
      "text/plain": [
       "Index(['quizId', 'userId', 'courseId', 'enrollmentId', 'totalScore',\n",
       "       'obtainedScore', 'date'],\n",
       "      dtype='object')"
      ]
     },
     "metadata": {},
     "output_type": "display_data"
    }
   ],
   "source": [
    "display(fact_engagement_table.columns)\n",
    "display(dim_user.columns)\n",
    "display(dim_course.columns)\n",
    "display(dim_comments.columns)\n",
    "display(dim_feedback.columns)\n",
    "display(dim_quiz.columns)"
   ]
  },
  {
   "cell_type": "markdown",
   "metadata": {},
   "source": [
    "Engagement Metrics Analysis"
   ]
  },
  {
   "cell_type": "code",
   "execution_count": 10,
   "metadata": {},
   "outputs": [
    {
     "name": "stdout",
     "output_type": "stream",
     "text": [
      "Engagement Summary:\n",
      "    courseId   progress  completed  isQuizTaken  isParticipated  isFeedback\n",
      "0          1  49.960000          2          137             115         138\n",
      "1          2  51.933884          2          117             118         132\n",
      "2          3  50.687023          1          128             128         134\n",
      "3          4  53.920635          2          124             147         120\n",
      "4          5  48.562992          2          126             125         116\n",
      "5          6  52.148438          3          140             122         119\n",
      "6          7  50.730159          1          126             132         136\n",
      "7          8  49.627049          1          118             118         116\n",
      "8          9  50.504032          2          119             128         126\n",
      "9         10  52.091667          3          117             112         119\n",
      "10        11  50.614504          2          133             119         139\n",
      "11        12  51.365854          3          108             122         114\n",
      "12        13  48.094650          1          124             118         128\n",
      "13        14  49.117647          6          126             104         130\n",
      "14        15  46.440816          2          132             121         111\n",
      "15        16  49.540541          1          135             132         130\n",
      "16        17  50.983607          4          122             115         104\n",
      "17        18  48.609053          1          112             117         126\n",
      "18        19  51.031746          3          117             119         132\n",
      "19        20  50.418327          3          132             123         118\n"
     ]
    }
   ],
   "source": [
    "# Engagement summary\n",
    "engagement_summary = fact_engagement_table.groupby('courseId').agg({\n",
    "    'progress': 'mean',\n",
    "    'completed': 'sum',\n",
    "    'isQuizTaken': 'sum',\n",
    "    'isParticipated': 'sum',\n",
    "    'isFeedback': 'sum'\n",
    "}).reset_index()\n",
    "\n",
    "print(\"Engagement Summary:\")\n",
    "print(engagement_summary)"
   ]
  },
  {
   "cell_type": "markdown",
   "metadata": {},
   "source": [
    "Demographics Analysis"
   ]
  },
  {
   "cell_type": "code",
   "execution_count": 31,
   "metadata": {},
   "outputs": [
    {
     "data": {
      "text/html": [
       "<div>\n",
       "<style scoped>\n",
       "    .dataframe tbody tr th:only-of-type {\n",
       "        vertical-align: middle;\n",
       "    }\n",
       "\n",
       "    .dataframe tbody tr th {\n",
       "        vertical-align: top;\n",
       "    }\n",
       "\n",
       "    .dataframe thead th {\n",
       "        text-align: right;\n",
       "    }\n",
       "</style>\n",
       "<table border=\"1\" class=\"dataframe\">\n",
       "  <thead>\n",
       "    <tr style=\"text-align: right;\">\n",
       "      <th></th>\n",
       "      <th>department</th>\n",
       "      <th>completed</th>\n",
       "      <th>timeSpent</th>\n",
       "    </tr>\n",
       "  </thead>\n",
       "  <tbody>\n",
       "    <tr>\n",
       "      <th>0</th>\n",
       "      <td>Cloud Services</td>\n",
       "      <td>8</td>\n",
       "      <td>36102461</td>\n",
       "    </tr>\n",
       "    <tr>\n",
       "      <th>1</th>\n",
       "      <td>Cybersecurity</td>\n",
       "      <td>3</td>\n",
       "      <td>29002598</td>\n",
       "    </tr>\n",
       "    <tr>\n",
       "      <th>2</th>\n",
       "      <td>Data Management</td>\n",
       "      <td>6</td>\n",
       "      <td>49303063</td>\n",
       "    </tr>\n",
       "    <tr>\n",
       "      <th>3</th>\n",
       "      <td>It Support</td>\n",
       "      <td>13</td>\n",
       "      <td>47287198</td>\n",
       "    </tr>\n",
       "    <tr>\n",
       "      <th>4</th>\n",
       "      <td>Network Administration</td>\n",
       "      <td>5</td>\n",
       "      <td>38869700</td>\n",
       "    </tr>\n",
       "    <tr>\n",
       "      <th>5</th>\n",
       "      <td>Software Development</td>\n",
       "      <td>10</td>\n",
       "      <td>46184207</td>\n",
       "    </tr>\n",
       "  </tbody>\n",
       "</table>\n",
       "</div>"
      ],
      "text/plain": [
       "               department  completed  timeSpent\n",
       "0          Cloud Services          8   36102461\n",
       "1           Cybersecurity          3   29002598\n",
       "2         Data Management          6   49303063\n",
       "3              It Support         13   47287198\n",
       "4  Network Administration          5   38869700\n",
       "5    Software Development         10   46184207"
      ]
     },
     "metadata": {},
     "output_type": "display_data"
    },
    {
     "name": "stdout",
     "output_type": "stream",
     "text": [
      "\n",
      "Department with Maximum Time Spent and Completions:\n",
      "        department  completed  timeSpent\n",
      "2  Data Management          6   49303063\n"
     ]
    }
   ],
   "source": [
    "user_engagement = dim_user.merge(fact_engagement_table, left_on='employee_id', right_on='userId')\n",
    "\n",
    "# Calculate average progress and completion count by department and gender\n",
    "demographic_engagement = user_engagement.groupby(['department']).agg({\n",
    "    'completed': 'sum',\n",
    "    'timeSpent': 'sum'  # If time spent is relevant\n",
    "}).reset_index()\n",
    "\n",
    "display(demographic_engagement)\n",
    "\n",
    "# Sort by time spent and completed count\n",
    "sorted_engagement = demographic_engagement.sort_values(by=['timeSpent', 'completed'], ascending=False)\n",
    "\n",
    "# Display the department with the highest time spent and completions\n",
    "top_department = sorted_engagement.head(1)\n",
    "\n",
    "print(\"\\nDepartment with Maximum Time Spent and Completions:\")\n",
    "print(top_department)\n"
   ]
  },
  {
   "cell_type": "markdown",
   "metadata": {},
   "source": [
    "Course Content Analysis"
   ]
  },
  {
   "cell_type": "code",
   "execution_count": 30,
   "metadata": {},
   "outputs": [
    {
     "name": "stdout",
     "output_type": "stream",
     "text": [
      "\n",
      "Course Feedback Summary:\n",
      "    courseId  overallSatisfaction  contentQuality  instructorEffectiveness\n",
      "0          1             2.731884        3.115942                 2.797101\n",
      "1          2             3.106061        2.962121                 3.000000\n",
      "2          3             3.000000        2.925373                 2.888060\n",
      "3          4             3.116667        3.216667                 3.166667\n",
      "4          5             3.060345        2.913793                 3.000000\n",
      "5          6             2.865546        2.882353                 2.697479\n",
      "6          7             3.066176        2.852941                 3.242647\n",
      "7          8             2.922414        3.051724                 3.103448\n",
      "8          9             2.952381        2.753968                 3.079365\n",
      "9         10             3.000000        3.000000                 2.831933\n",
      "10        11             3.014388        3.007194                 2.812950\n",
      "11        12             3.131579        3.043860                 2.754386\n",
      "12        13             3.179688        2.929688                 3.210938\n",
      "13        14             3.123077        3.115385                 3.007692\n",
      "14        15             2.936937        2.702703                 2.864865\n",
      "15        16             2.953846        2.946154                 2.992308\n",
      "16        17             3.298077        3.009615                 2.942308\n",
      "17        18             2.960317        2.952381                 2.984127\n",
      "18        19             3.000000        2.856061                 2.878788\n",
      "19        20             2.957627        3.144068                 3.093220\n",
      "\n",
      "Top 3 Courses Based on Average Satisfaction:\n",
      "   courseId                                      title  overallSatisfaction  \\\n",
      "0        17              Persistent regional framework             3.298077   \n",
      "1        13  Cross-group zero administration structure             3.179688   \n",
      "2        12      Public-key grid-enabled orchestration             3.131579   \n",
      "\n",
      "   contentQuality  instructorEffectiveness  \n",
      "0        3.009615                 2.942308  \n",
      "1        2.929688                 3.210938  \n",
      "2        3.043860                 2.754386  \n"
     ]
    }
   ],
   "source": [
    "# Average satisfaction by course\n",
    "course_feedback = dim_feedback.merge(dim_course, left_on='courseId',right_on='course_id').groupby('courseId').agg({\n",
    "  \n",
    "    'overallSatisfaction': 'mean',\n",
    "    'contentQuality': 'mean',\n",
    "    'instructorEffectiveness': 'mean'\n",
    "}).reset_index()\n",
    "\n",
    "print(\"\\nCourse Feedback Summary:\")\n",
    "print(course_feedback)\n",
    "\n",
    "# Sort by overallSatisfaction, contentQuality, or instructorEffectiveness\n",
    "top_courses = course_feedback.sort_values(by='overallSatisfaction', ascending=False).head(3)\n",
    "\n",
    "# Include course titles by merging with the course data\n",
    "top_courses_with_titles = top_courses.merge(dim_course[['course_id', 'title']], left_on='courseId', right_on='course_id')\n",
    "\n",
    "print(\"\\nTop 3 Courses Based on Average Satisfaction:\")\n",
    "print(top_courses_with_titles[['courseId', 'title', 'overallSatisfaction', 'contentQuality', 'instructorEffectiveness']])"
   ]
  },
  {
   "cell_type": "code",
   "execution_count": 33,
   "metadata": {},
   "outputs": [
    {
     "name": "stdout",
     "output_type": "stream",
     "text": [
      "\n",
      "Course with Most Enrollments:\n",
      "   courseId                               title  enrollmentCount\n",
      "2         3  Object-based zero-defect emulation              262\n"
     ]
    }
   ],
   "source": [
    "# Count enrollments by course\n",
    "enrollment_counts = fact_engagement_table.groupby('courseId')['enrollmentId'].nunique().reset_index(name='enrollmentCount')\n",
    "\n",
    "# Merge with course titles to include titles\n",
    "enrollment_counts = enrollment_counts.merge(dim_course[['course_id', 'title']], left_on='courseId', right_on='course_id')\n",
    "\n",
    "# Sort by enrollment count in descending order\n",
    "most_enrolled_course = enrollment_counts.sort_values(by='enrollmentCount', ascending=False).head(1)\n",
    "\n",
    "print(\"\\nCourse with Most Enrollments:\")\n",
    "print(most_enrolled_course[['courseId', 'title', 'enrollmentCount']])\n"
   ]
  },
  {
   "cell_type": "markdown",
   "metadata": {},
   "source": [
    "Comments Analysis"
   ]
  },
  {
   "cell_type": "code",
   "execution_count": 38,
   "metadata": {},
   "outputs": [
    {
     "name": "stdout",
     "output_type": "stream",
     "text": [
      "\n",
      "Most Common Full Comment by Course:\n",
      "    courseId           comments\n",
      "0          1      Great course!\n",
      "1          2   Could be better.\n",
      "2          3      Great course!\n",
      "3          4   Could be better.\n",
      "4          5      Great course!\n",
      "5          6   Could be better.\n",
      "6          7      Great course!\n",
      "7          8   Could be better.\n",
      "8          9  Very informative.\n",
      "9         10   Could be better.\n",
      "10        11   Could be better.\n",
      "11        12  Very informative.\n",
      "12        13  Very informative.\n",
      "13        14      Great course!\n",
      "14        15  Very informative.\n",
      "15        16      Great course!\n",
      "16        17  Very informative.\n",
      "17        18   Could be better.\n",
      "18        19  Very informative.\n",
      "19        20      Great course!\n"
     ]
    }
   ],
   "source": [
    "# Function to get the most common full comment\n",
    "def most_common_full_comment(comments):\n",
    "    return comments.value_counts().idxmax() if not comments.empty else None\n",
    "\n",
    "# Apply the function to find the most common full comment by courseId\n",
    "most_common_feedback = dim_feedback.groupby('courseId')['comments'].apply(most_common_full_comment).reset_index()\n",
    "\n",
    "print(\"\\nMost Common Full Comment by Course:\")\n",
    "print(most_common_feedback)\n"
   ]
  },
  {
   "cell_type": "markdown",
   "metadata": {},
   "source": [
    "Quiz Performance Analysis"
   ]
  },
  {
   "cell_type": "code",
   "execution_count": 24,
   "metadata": {},
   "outputs": [
    {
     "name": "stdout",
     "output_type": "stream",
     "text": [
      "\n",
      "Quiz Performance Summary:\n",
      "    courseId  totalScore  obtainedScore\n",
      "0          1       100.0      48.270073\n",
      "1          2       100.0      50.205128\n",
      "2          3       100.0      51.054688\n",
      "3          4       100.0      53.766129\n",
      "4          5       100.0      50.222222\n",
      "5          6       100.0      49.978571\n",
      "6          7       100.0      52.746032\n",
      "7          8       100.0      46.703390\n",
      "8          9       100.0      52.932773\n",
      "9         10       100.0      52.846154\n",
      "10        11       100.0      51.187970\n",
      "11        12       100.0      48.620370\n",
      "12        13       100.0      47.629032\n",
      "13        14       100.0      48.238095\n",
      "14        15       100.0      49.333333\n",
      "15        16       100.0      46.592593\n",
      "16        17       100.0      53.524590\n",
      "17        18       100.0      49.116071\n",
      "18        19       100.0      49.512821\n",
      "19        20       100.0      46.704545\n"
     ]
    }
   ],
   "source": [
    "# Average scores by course\n",
    "quiz_performance = dim_quiz.groupby('courseId').agg({\n",
    "    'totalScore': 'mean',\n",
    "    'obtainedScore': 'mean'\n",
    "}).reset_index()\n",
    "\n",
    "print(\"\\nQuiz Performance Summary:\")\n",
    "print(quiz_performance)\n",
    "\n"
   ]
  },
  {
   "cell_type": "markdown",
   "metadata": {},
   "source": [
    "Analyze Time Spent by Department"
   ]
  },
  {
   "cell_type": "code",
   "execution_count": 26,
   "metadata": {},
   "outputs": [
    {
     "name": "stdout",
     "output_type": "stream",
     "text": [
      "\n",
      "Total Time Spent by Department:\n",
      "               department  timeSpent\n",
      "2         Data Management   49303063\n",
      "3              It Support   47287198\n",
      "5    Software Development   46184207\n",
      "4  Network Administration   38869700\n",
      "0          Cloud Services   36102461\n",
      "1           Cybersecurity   29002598\n"
     ]
    }
   ],
   "source": [
    "# Merge user data with engagement data\n",
    "user_engagement = dim_user.merge(fact_engagement_table, left_on='employee_id', right_on='userId')\n",
    "\n",
    "# Sum time spent by department\n",
    "time_spent_by_department = user_engagement.groupby('department').agg({\n",
    "    'timeSpent': 'sum'\n",
    "}).reset_index()\n",
    "\n",
    "# Sort by time spent in descending order\n",
    "time_spent_by_department = time_spent_by_department.sort_values(by='timeSpent', ascending=False)\n",
    "\n",
    "print(\"\\nTotal Time Spent by Department:\")\n",
    "print(time_spent_by_department)\n"
   ]
  },
  {
   "cell_type": "code",
   "execution_count": 32,
   "metadata": {},
   "outputs": [
    {
     "name": "stdout",
     "output_type": "stream",
     "text": [
      "\n",
      "Top 5 Courses with Most Quizzes Taken:\n",
      "    courseId                                      title  quizTaken\n",
      "5          6                 Phased background database        140\n",
      "0          1        Proactive demand-driven methodology        137\n",
      "15        16     Integrated context-sensitive migration        135\n",
      "10        11            Secured human-resource alliance        133\n",
      "19        20  Grass-roots contextually-based projection        132\n"
     ]
    }
   ],
   "source": [
    "# Count quizzes taken by course\n",
    "quiz_counts = dim_quiz.groupby('courseId').size().reset_index(name='quizTaken')\n",
    "\n",
    "# Merge with course titles\n",
    "top_quiz_courses = quiz_counts.merge(dim_course[['course_id', 'title']], left_on='courseId', right_on='course_id')\n",
    "\n",
    "# Sort by number of quizzes taken\n",
    "top_quiz_courses = top_quiz_courses.sort_values(by='quizTaken', ascending=False).head(5)\n",
    "\n",
    "print(\"\\nTop 5 Courses with Most Quizzes Taken:\")\n",
    "print(top_quiz_courses[['courseId', 'title', 'quizTaken']])\n"
   ]
  }
 ],
 "metadata": {
  "kernelspec": {
   "display_name": "myenv",
   "language": "python",
   "name": "python3"
  },
  "language_info": {
   "codemirror_mode": {
    "name": "ipython",
    "version": 3
   },
   "file_extension": ".py",
   "mimetype": "text/x-python",
   "name": "python",
   "nbconvert_exporter": "python",
   "pygments_lexer": "ipython3",
   "version": "3.11.9"
  }
 },
 "nbformat": 4,
 "nbformat_minor": 2
}
