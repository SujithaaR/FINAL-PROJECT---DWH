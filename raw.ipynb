{
 "cells": [
  {
   "cell_type": "code",
   "execution_count": 3,
   "metadata": {},
   "outputs": [
    {
     "name": "stdout",
     "output_type": "stream",
     "text": [
      "Moved: C:\\Users\\SujithaaR\\Documents\\Final Project - Python Script-Generate files\\comments.csv to C:\\Users\\SujithaaR\\Documents\\FinalProject- DWH\\RAW\\comments.csv\n",
      "Moved: C:\\Users\\SujithaaR\\Documents\\Final Project - Python Script-Generate files\\courses.csv to C:\\Users\\SujithaaR\\Documents\\FinalProject- DWH\\RAW\\courses.csv\n",
      "Moved: C:\\Users\\SujithaaR\\Documents\\Final Project - Python Script-Generate files\\employees.csv to C:\\Users\\SujithaaR\\Documents\\FinalProject- DWH\\RAW\\employees.csv\n",
      "Moved: C:\\Users\\SujithaaR\\Documents\\Final Project - Python Script-Generate files\\enrollment.csv to C:\\Users\\SujithaaR\\Documents\\FinalProject- DWH\\RAW\\enrollment.csv\n",
      "Moved: C:\\Users\\SujithaaR\\Documents\\Final Project - Python Script-Generate files\\feedback.csv to C:\\Users\\SujithaaR\\Documents\\FinalProject- DWH\\RAW\\feedback.csv\n",
      "Moved: C:\\Users\\SujithaaR\\Documents\\Final Project - Python Script-Generate files\\quiz_results.csv to C:\\Users\\SujithaaR\\Documents\\FinalProject- DWH\\RAW\\quiz_results.csv\n",
      "All CSV files ingested into the RAW folder successfully!\n"
     ]
    }
   ],
   "source": [
    "import os\n",
    "import shutil\n",
    "\n",
    "# Define the source directory where your CSV files are currently located\n",
    "source_dir = r\"C:\\Users\\SujithaaR\\Documents\\Final Project - Python Script-Generate files\"  # Use raw string\n",
    "\n",
    "# Define the target RAW directory\n",
    "raw_dir = r\"C:\\Users\\SujithaaR\\Documents\\FinalProject- DWH\\RAW\"  # Use raw string\n",
    "\n",
    "# Create the RAW directory if it doesn't exist\n",
    "os.makedirs(raw_dir, exist_ok=True)\n",
    "\n",
    "# Function to move CSV files to the RAW folder\n",
    "def ingest_csv_to_raw(source, target):\n",
    "    # List all files in the source directory\n",
    "    for file_name in os.listdir(source):\n",
    "        # Check if the file is a CSV\n",
    "        if file_name.endswith('.csv'):\n",
    "            # Define full file paths\n",
    "            source_file = os.path.join(source, file_name)\n",
    "            target_file = os.path.join(target, file_name)\n",
    "            \n",
    "            # Move the file to the RAW directory\n",
    "            shutil.copy(source_file, target_file)\n",
    "            print(f'Moved: {source_file} to {target_file}')\n",
    "\n",
    "# Execute the ingestion\n",
    "ingest_csv_to_raw(source_dir, raw_dir)\n",
    "\n",
    "print(\"All CSV files ingested into the RAW folder successfully!\")\n"
   ]
  },
  {
   "cell_type": "code",
   "execution_count": null,
   "metadata": {},
   "outputs": [],
   "source": []
  }
 ],
 "metadata": {
  "kernelspec": {
   "display_name": "myenv",
   "language": "python",
   "name": "python3"
  },
  "language_info": {
   "codemirror_mode": {
    "name": "ipython",
    "version": 3
   },
   "file_extension": ".py",
   "mimetype": "text/x-python",
   "name": "python",
   "nbconvert_exporter": "python",
   "pygments_lexer": "ipython3",
   "version": "3.11.9"
  }
 },
 "nbformat": 4,
 "nbformat_minor": 2
}
